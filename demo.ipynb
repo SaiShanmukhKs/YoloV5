{
 "cells": [
  {
   "cell_type": "code",
   "execution_count": 2,
   "metadata": {},
   "outputs": [],
   "source": [
    "import yaml"
   ]
  },
  {
   "cell_type": "code",
   "execution_count": 2,
   "metadata": {},
   "outputs": [],
   "source": [
    "import yaml\n",
    "\n",
    "with open(\"PanCard/data.yaml\", 'r') as stream:\n",
    "    num_classes = str(yaml.safe_load(stream)['nc'])\n"
   ]
  },
  {
   "cell_type": "code",
   "execution_count": 3,
   "metadata": {},
   "outputs": [
    {
     "name": "stdout",
     "output_type": "stream",
     "text": [
      "3\n"
     ]
    }
   ],
   "source": [
    "print(num_classes)"
   ]
  },
  {
   "cell_type": "code",
   "execution_count": 7,
   "metadata": {},
   "outputs": [
    {
     "ename": "ImportError",
     "evalue": "attempted relative import with no known parent package",
     "output_type": "error",
     "traceback": [
      "\u001b[1;31m---------------------------------------------------------------------------\u001b[0m",
      "\u001b[1;31mImportError\u001b[0m                               Traceback (most recent call last)",
      "\u001b[1;32mc:\\Users\\shanmukh\\Desktop\\DocVerification\\yolov5-master\\demo.ipynb Cell 4\u001b[0m line \u001b[0;36m2\n\u001b[0;32m      <a href='vscode-notebook-cell:/c%3A/Users/shanmukh/Desktop/DocVerification/yolov5-master/demo.ipynb#X10sZmlsZQ%3D%3D?line=0'>1</a>\u001b[0m \u001b[39m# In utils/__init__.py\u001b[39;00m\n\u001b[1;32m----> <a href='vscode-notebook-cell:/c%3A/Users/shanmukh/Desktop/DocVerification/yolov5-master/demo.ipynb#X10sZmlsZQ%3D%3D?line=1'>2</a>\u001b[0m \u001b[39mfrom\u001b[39;00m \u001b[39m.\u001b[39;00m\u001b[39mgeneral\u001b[39;00m \u001b[39mimport\u001b[39;00m LOGGER, colorstr, cv2\n\u001b[0;32m      <a href='vscode-notebook-cell:/c%3A/Users/shanmukh/Desktop/DocVerification/yolov5-master/demo.ipynb#X10sZmlsZQ%3D%3D?line=2'>3</a>\u001b[0m \u001b[39mfrom\u001b[39;00m \u001b[39m.\u001b[39;00m\u001b[39mloggers\u001b[39;00m\u001b[39m.\u001b[39;00m\u001b[39mclearml\u001b[39;00m\u001b[39m.\u001b[39;00m\u001b[39mclearml_utils\u001b[39;00m \u001b[39mimport\u001b[39;00m ClearmlLogger\n\u001b[0;32m      <a href='vscode-notebook-cell:/c%3A/Users/shanmukh/Desktop/DocVerification/yolov5-master/demo.ipynb#X10sZmlsZQ%3D%3D?line=3'>4</a>\u001b[0m \u001b[39mfrom\u001b[39;00m \u001b[39m.\u001b[39;00m\u001b[39mloggers\u001b[39;00m\u001b[39m.\u001b[39;00m\u001b[39mwandb\u001b[39;00m\u001b[39m.\u001b[39;00m\u001b[39mwandb_utils\u001b[39;00m \u001b[39mimport\u001b[39;00m WandbLogger\n",
      "\u001b[1;31mImportError\u001b[0m: attempted relative import with no known parent package"
     ]
    }
   ],
   "source": [
    "# In utils/__init__.py\n",
    "from .general import LOGGER, colorstr, cv2\n",
    "from .loggers.clearml.clearml_utils import ClearmlLogger\n",
    "from .loggers.wandb.wandb_utils import WandbLogger\n",
    "\n",
    "# In utils/general.py\n",
    "from .try_except import TryExcept  # Import from a different module\n",
    "from .downloads import curl_download, gsutil_getsize\n",
    "from .metrics import box_iou, fitness\n"
   ]
  },
  {
   "cell_type": "code",
   "execution_count": 12,
   "metadata": {},
   "outputs": [
    {
     "name": "stdout",
     "output_type": "stream",
     "text": [
      "Collecting models\n",
      "  Using cached models-0.9.3.tar.gz (16 kB)\n",
      "  Preparing metadata (setup.py): started\n",
      "  Preparing metadata (setup.py): finished with status 'error'\n"
     ]
    },
    {
     "name": "stderr",
     "output_type": "stream",
     "text": [
      "  error: subprocess-exited-with-error\n",
      "  \n",
      "  × python setup.py egg_info did not run successfully.\n",
      "  │ exit code: 1\n",
      "  ╰─> [8 lines of output]\n",
      "      Traceback (most recent call last):\n",
      "        File \"<string>\", line 2, in <module>\n",
      "        File \"<pip-setuptools-caller>\", line 34, in <module>\n",
      "        File \"C:\\Users\\shanmukh\\AppData\\Local\\Temp\\pip-install-w6mhec9e\\models_556310c29f1744cb957c00cfc8765278\\setup.py\", line 25, in <module>\n",
      "          import models\n",
      "        File \"C:\\Users\\shanmukh\\AppData\\Local\\Temp\\pip-install-w6mhec9e\\models_556310c29f1744cb957c00cfc8765278\\models\\__init__.py\", line 23, in <module>\n",
      "          from base import *\n",
      "      ModuleNotFoundError: No module named 'base'\n",
      "      [end of output]\n",
      "  \n",
      "  note: This error originates from a subprocess, and is likely not a problem with pip.\n",
      "error: metadata-generation-failed\n",
      "\n",
      "× Encountered error while generating package metadata.\n",
      "╰─> See above for output.\n",
      "\n",
      "note: This is an issue with the package mentioned above, not pip.\n",
      "hint: See above for details.\n"
     ]
    }
   ],
   "source": [
    "!pip install models"
   ]
  },
  {
   "cell_type": "code",
   "execution_count": 11,
   "metadata": {},
   "outputs": [
    {
     "ename": "ImportError",
     "evalue": "cannot import name 'TryExcept' from partially initialized module 'utils' (most likely due to a circular import) (c:\\Users\\shanmukh\\Desktop\\DocVerification\\yolov5-master\\utils\\__init__.py)",
     "output_type": "error",
     "traceback": [
      "\u001b[1;31m---------------------------------------------------------------------------\u001b[0m",
      "\u001b[1;31mImportError\u001b[0m                               Traceback (most recent call last)",
      "\u001b[1;32mc:\\Users\\shanmukh\\Desktop\\DocVerification\\yolov5-master\\demo.ipynb Cell 6\u001b[0m line \u001b[0;36m8\n\u001b[0;32m      <a href='vscode-notebook-cell:/c%3A/Users/shanmukh/Desktop/DocVerification/yolov5-master/demo.ipynb#X11sZmlsZQ%3D%3D?line=4'>5</a>\u001b[0m     \u001b[39mpass\u001b[39;00m\n\u001b[0;32m      <a href='vscode-notebook-cell:/c%3A/Users/shanmukh/Desktop/DocVerification/yolov5-master/demo.ipynb#X11sZmlsZQ%3D%3D?line=6'>7</a>\u001b[0m \u001b[39m# detect.py\u001b[39;00m\n\u001b[1;32m----> <a href='vscode-notebook-cell:/c%3A/Users/shanmukh/Desktop/DocVerification/yolov5-master/demo.ipynb#X11sZmlsZQ%3D%3D?line=7'>8</a>\u001b[0m \u001b[39mfrom\u001b[39;00m \u001b[39mmodels\u001b[39;00m\u001b[39m.\u001b[39;00m\u001b[39mcommon\u001b[39;00m \u001b[39mimport\u001b[39;00m DetectMultiBackend\n\u001b[0;32m      <a href='vscode-notebook-cell:/c%3A/Users/shanmukh/Desktop/DocVerification/yolov5-master/demo.ipynb#X11sZmlsZQ%3D%3D?line=8'>9</a>\u001b[0m \u001b[39mfrom\u001b[39;00m \u001b[39mmodels\u001b[39;00m\u001b[39m.\u001b[39;00m\u001b[39mcommon\u001b[39;00m \u001b[39mimport\u001b[39;00m TryExcept\n\u001b[0;32m     <a href='vscode-notebook-cell:/c%3A/Users/shanmukh/Desktop/DocVerification/yolov5-master/demo.ipynb#X11sZmlsZQ%3D%3D?line=9'>10</a>\u001b[0m \u001b[39mfrom\u001b[39;00m \u001b[39mutils\u001b[39;00m \u001b[39mimport\u001b[39;00m general\n",
      "File \u001b[1;32mc:\\Users\\shanmukh\\Desktop\\DocVerification\\yolov5-master\\models\\common.py:40\u001b[0m\n\u001b[0;32m     36\u001b[0m     \u001b[39mimport\u001b[39;00m \u001b[39multralytics\u001b[39;00m\n\u001b[0;32m     38\u001b[0m \u001b[39mfrom\u001b[39;00m \u001b[39multralytics\u001b[39;00m\u001b[39m.\u001b[39;00m\u001b[39mutils\u001b[39;00m\u001b[39m.\u001b[39;00m\u001b[39mplotting\u001b[39;00m \u001b[39mimport\u001b[39;00m Annotator, colors, save_one_box\n\u001b[1;32m---> 40\u001b[0m \u001b[39mfrom\u001b[39;00m \u001b[39mutils\u001b[39;00m \u001b[39mimport\u001b[39;00m TryExcept\n\u001b[0;32m     41\u001b[0m \u001b[39mfrom\u001b[39;00m \u001b[39mutils\u001b[39;00m\u001b[39m.\u001b[39;00m\u001b[39mdataloaders\u001b[39;00m \u001b[39mimport\u001b[39;00m exif_transpose, letterbox\n\u001b[0;32m     42\u001b[0m \u001b[39mfrom\u001b[39;00m \u001b[39mutils\u001b[39;00m\u001b[39m.\u001b[39;00m\u001b[39mgeneral\u001b[39;00m \u001b[39mimport\u001b[39;00m (LOGGER, ROOT, Profile, check_requirements, check_suffix, check_version, colorstr,\n\u001b[0;32m     43\u001b[0m                            increment_path, is_jupyter, make_divisible, non_max_suppression, scale_boxes, xywh2xyxy,\n\u001b[0;32m     44\u001b[0m                            xyxy2xywh, yaml_load)\n",
      "File \u001b[1;32mc:\\Users\\shanmukh\\Desktop\\DocVerification\\yolov5-master\\utils\\__init__.py:13\u001b[0m\n\u001b[0;32m     10\u001b[0m \u001b[39mimport\u001b[39;00m \u001b[39mpkg_resources\u001b[39;00m \u001b[39mas\u001b[39;00m \u001b[39mpkg\u001b[39;00m\n\u001b[0;32m     11\u001b[0m \u001b[39mimport\u001b[39;00m \u001b[39mtorch\u001b[39;00m\n\u001b[1;32m---> 13\u001b[0m \u001b[39mfrom\u001b[39;00m \u001b[39mutils\u001b[39;00m\u001b[39m.\u001b[39;00m\u001b[39mgeneral\u001b[39;00m \u001b[39mimport\u001b[39;00m LOGGER, colorstr, cv2\n\u001b[0;32m     14\u001b[0m \u001b[39mfrom\u001b[39;00m \u001b[39mutils\u001b[39;00m\u001b[39m.\u001b[39;00m\u001b[39mloggers\u001b[39;00m\u001b[39m.\u001b[39;00m\u001b[39mclearml\u001b[39;00m\u001b[39m.\u001b[39;00m\u001b[39mclearml_utils\u001b[39;00m \u001b[39mimport\u001b[39;00m ClearmlLogger\n\u001b[0;32m     15\u001b[0m \u001b[39mfrom\u001b[39;00m \u001b[39mutils\u001b[39;00m\u001b[39m.\u001b[39;00m\u001b[39mloggers\u001b[39;00m\u001b[39m.\u001b[39;00m\u001b[39mwandb\u001b[39;00m\u001b[39m.\u001b[39;00m\u001b[39mwandb_utils\u001b[39;00m \u001b[39mimport\u001b[39;00m WandbLogger\n",
      "File \u001b[1;32mc:\\Users\\shanmukh\\Desktop\\DocVerification\\yolov5-master\\utils\\general.py:50\u001b[0m\n\u001b[0;32m     46\u001b[0m     \u001b[39mimport\u001b[39;00m \u001b[39multralytics\u001b[39;00m\n\u001b[0;32m     48\u001b[0m \u001b[39mfrom\u001b[39;00m \u001b[39multralytics\u001b[39;00m\u001b[39m.\u001b[39;00m\u001b[39mutils\u001b[39;00m\u001b[39m.\u001b[39;00m\u001b[39mchecks\u001b[39;00m \u001b[39mimport\u001b[39;00m check_requirements\n\u001b[1;32m---> 50\u001b[0m \u001b[39mfrom\u001b[39;00m \u001b[39mutils\u001b[39;00m \u001b[39mimport\u001b[39;00m TryExcept, emojis\n\u001b[0;32m     51\u001b[0m \u001b[39mfrom\u001b[39;00m \u001b[39mutils\u001b[39;00m\u001b[39m.\u001b[39;00m\u001b[39mdownloads\u001b[39;00m \u001b[39mimport\u001b[39;00m curl_download, gsutil_getsize\n\u001b[0;32m     52\u001b[0m \u001b[39mfrom\u001b[39;00m \u001b[39mutils\u001b[39;00m\u001b[39m.\u001b[39;00m\u001b[39mmetrics\u001b[39;00m \u001b[39mimport\u001b[39;00m box_iou, fitness\n",
      "\u001b[1;31mImportError\u001b[0m: cannot import name 'TryExcept' from partially initialized module 'utils' (most likely due to a circular import) (c:\\Users\\shanmukh\\Desktop\\DocVerification\\yolov5-master\\utils\\__init__.py)"
     ]
    }
   ],
   "source": [
    "# general.py\n",
    "try:\n",
    "    from utils import TryExcept\n",
    "except ImportError:\n",
    "    pass\n",
    "\n",
    "# detect.py\n",
    "from models.common import DetectMultiBackend\n",
    "from models.common import TryExcept\n",
    "from utils import general\n",
    "\n",
    "# ...\n"
   ]
  },
  {
   "cell_type": "code",
   "execution_count": 8,
   "metadata": {},
   "outputs": [
    {
     "name": "stderr",
     "output_type": "stream",
     "text": [
      "Traceback (most recent call last):\n",
      "  File \"c:\\Users\\shanmukh\\Desktop\\DocVerification\\yolov5-master\\detect.py\", line 48, in <module>\n",
      "    from models.common import DetectMultiBackend\n",
      "  File \"c:\\Users\\shanmukh\\Desktop\\DocVerification\\yolov5-master\\models\\common.py\", line 40, in <module>\n",
      "    from utils import TryExcept\n",
      "  File \"c:\\Users\\shanmukh\\Desktop\\DocVerification\\yolov5-master\\utils\\__init__.py\", line 13, in <module>\n",
      "    from utils.general import LOGGER, colorstr, cv2\n",
      "  File \"c:\\Users\\shanmukh\\Desktop\\DocVerification\\yolov5-master\\utils\\general.py\", line 50, in <module>\n",
      "    from utils import TryExcept, emojis\n",
      "ImportError: cannot import name 'TryExcept' from partially initialized module 'utils' (most likely due to a circular import) (c:\\Users\\shanmukh\\Desktop\\DocVerification\\yolov5-master\\utils\\__init__.py)\n"
     ]
    }
   ],
   "source": [
    "\n",
    "!python detect.py --weights runs/train/yolov5s_results2/weights/best.pt --img 416 --conf 0.4 --source panShanmukh.jpg"
   ]
  },
  {
   "cell_type": "code",
   "execution_count": null,
   "metadata": {},
   "outputs": [],
   "source": []
  },
  {
   "cell_type": "code",
   "execution_count": null,
   "metadata": {},
   "outputs": [],
   "source": []
  },
  {
   "cell_type": "code",
   "execution_count": null,
   "metadata": {},
   "outputs": [],
   "source": []
  }
 ],
 "metadata": {
  "kernelspec": {
   "display_name": "Python 3",
   "language": "python",
   "name": "python3"
  },
  "language_info": {
   "codemirror_mode": {
    "name": "ipython",
    "version": 3
   },
   "file_extension": ".py",
   "mimetype": "text/x-python",
   "name": "python",
   "nbconvert_exporter": "python",
   "pygments_lexer": "ipython3",
   "version": "3.11.3"
  }
 },
 "nbformat": 4,
 "nbformat_minor": 2
}
